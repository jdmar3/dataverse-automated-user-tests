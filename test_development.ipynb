{
 "cells": [
  {
   "cell_type": "code",
   "execution_count": 12,
   "metadata": {},
   "outputs": [
    {
     "name": "stderr",
     "output_type": "stream",
     "text": [
      "[WDM] - Downloading: 100%|██████████| 8.84M/8.84M [00:00<00:00, 11.9MB/s]\n"
     ]
    }
   ],
   "source": [
    "# The goal of this Jupyter Notebook is to allow us to run our tests in a more interactive way\n",
    "# We can keep the session open after an error (and hopefully add sleep statements and run new sections on them)\n",
    "# This will make it much easier to write additional selenium test code, as we don't have to rerun the whole test every time.\n",
    "# There may be other ways to do this, but I was inspired by the work we did previously in R and this is very similar.\n",
    "\n",
    "import traceback, importlib#, sys\n",
    "from python.tests.mixins import dataset_testing_mixin as dtm # DataverseTestingMixin, DatasetTestingMixin\n",
    "from python.tests.mixins import dataverse_testing_mixin as dvm\n",
    "#We have to reload our libraries we are developing on each run to pick up changes\n",
    "importlib.reload(dtm)\n",
    "importlib.reload(dvm)\n",
    "from python.tests import test_ingest_workflow_report as t\n",
    "importlib.reload(t) \n",
    "\n",
    "#print(sys.modules)\n",
    "\n",
    "ingest_test = t.IngestWorkflowReportTestCase()\n",
    "ingest_test.setUp()\n",
    "try:\n",
    "    # ingest_test.test_requirements()\n",
    "    #ingest_test.r01_mainpath_test_sso_auth()\n",
    "    ingest_test.r01alt_mainpath_builtin_auth()\n",
    "    ingest_test.get_api_token() \n",
    "    # ingest_test.r02_mainpath_add_user_group_role()\n",
    "    # ingest_test.r03_mainpath_create_sub_dataverse()\n",
    "    # ingest_test.r04_mainpath_edit_dataverse()\n",
    "    # ingest_test.r05_mainpath_create_metadata_template()\n",
    "    # ingest_test.r06_mainpath_edit_metadata_template()\n",
    "    # ingest_test.r09r11r13r20_mainpath_create_dataset()\n",
    "    #ingest_test.r10_mainpath_edit_dataset()\n",
    "\n",
    "\n",
    "    # ingest_test.tearDown()\n",
    "except:\n",
    "    traceback.print_exc()"
   ]
  },
  {
   "cell_type": "code",
   "execution_count": 20,
   "metadata": {},
   "outputs": [
    {
     "name": "stdout",
     "output_type": "stream",
     "text": [
      "<Response [401]>\n"
     ]
    }
   ],
   "source": [
    "# Here you can finish the test cleanup after developing\n",
    "ingest_test.tearDown()"
   ]
  },
  {
   "cell_type": "code",
   "execution_count": 16,
   "metadata": {},
   "outputs": [],
   "source": [
    "# Here you can test code after an error, keeping the window open\n",
    "\n",
    "### KEEP THIS PORTION FOR WRITING ###\n",
    "\n",
    "import time\n",
    "from selenium.webdriver.common.keys import Keys\n",
    "ingest_test.sesh.implicitly_wait(5)\n",
    "self = ingest_test #So we don't have to rewrite code copied out of tests\n",
    "\n",
    "### WRITE ACTUAL TEST CODE BELOW ###\n",
    "self.set_req('12')\n",
    "self.set_start_time()\n",
    "\n",
    "self.sesh.get(self.dv_url)\n",
    "\n",
    "self.part = '01' # enter search terms (basic)\n",
    "self.sesh.find_element('xpath','//*[@id=\"j_idt443:searchBasic\"]').send_keys(\"Validator\") #each word is an inclusive or search\n",
    "\n",
    "self.part = '02' # click search button\n",
    "self.sesh.find_element('xpath', '//*[@id=\"j_idt443\"]/div/div/span').click()\n",
    "\n",
    "self.part = '03' # select relevant dataset\n",
    "self.part = '04' # click advanced search\n",
    "self.part = '05' # enter metadata based search content\n",
    "self.part = '06' # click find\n",
    "self.part = '07' # select dataset\n",
    "\n",
    "\n",
    "\n",
    "self.set_end_time()\n",
    "\n",
    "### SAVE FOR LATER ###\n",
    "\n",
    "## T9 Test Part 3 incomplete. Waiting on feedback about how I should try to exercise the buggy host dataverse dropdown\n",
    "## This code gets to the point that it fills in the dropdown\n",
    "\n",
    "# part = '01'\n",
    "# self.sesh.get(self.dv_url+'/dataverse/'+self.dataverse_name)\n",
    "# self.sesh.find_element('xpath', '//*[@id=\"addDataForm\"]/div/button').click() #click add data\n",
    "# #take_screenshot(self.capture, self.sesh, results, req, part, shot:=1)\n",
    "\n",
    "# part = '02'\n",
    "# self.sesh.find_element('xpath', '//*[@id=\"addDataForm\"]/div/ul/li[2]/a').click() #click new dataset\n",
    "# #take_screenshot(self.capture, self.sesh, results, req, part, shot:=1)\n",
    "\n",
    "# part = '03'\n",
    "# self.sesh.find_element('xpath', '//*[@id=\"datasetForm:selectHostDataverse_input\"]').clear()\n",
    "# self.sesh.find_element('xpath','//*[@id=\"datasetForm:selectHostDataverse_input\"]').send_keys(self.dataverse_name)"
   ]
  },
  {
   "cell_type": "markdown",
   "metadata": {},
   "source": []
  },
  {
   "cell_type": "code",
   "execution_count": 11,
   "metadata": {},
   "outputs": [
    {
     "name": "stdout",
     "output_type": "stream",
     "text": [
      "{'_content': b'{\"status\":\"OK\",\"data\":{\"message\":\"Dataset 667 destroyed\"}}', '_content_consumed': True, '_next': None, 'status_code': 200, 'headers': {'Date': 'Fri, 21 Apr 2023 16:43:00 GMT', 'Server': 'Apache/2.4.37 (rocky) OpenSSL/1.1.1k', 'Access-Control-Allow-Origin': '*', 'Access-Control-Allow-Methods': 'PUT, GET, POST, DELETE, OPTIONS', 'Access-Control-Allow-Headers': 'Accept, Content-Type, X-Dataverse-Key, Range', 'Access-Control-Expose-Headers': 'Accept-Ranges, Content-Range, Content-Encoding', 'Content-Type': 'application/json;charset=UTF-8', 'Content-Length': '58', 'Keep-Alive': 'timeout=5, max=100', 'Connection': 'Keep-Alive'}, 'raw': <urllib3.response.HTTPResponse object at 0x1178c9840>, 'url': 'https://payara6.odum.unc.edu/api/datasets/667/destroy', 'encoding': 'UTF-8', 'history': [], 'reason': 'OK', 'cookies': <RequestsCookieJar[]>, 'elapsed': datetime.timedelta(microseconds=348015), 'request': <PreparedRequest [DELETE]>, 'connection': <requests.adapters.HTTPAdapter object at 0x1178c9bd0>}\n",
      "{'_content': b'{\"status\":\"ERROR\",\"message\":\"Can\\'t find dataverse with identifier=\\'359\\'\"}', '_content_consumed': True, '_next': None, 'status_code': 404, 'headers': {'Date': 'Fri, 21 Apr 2023 16:43:01 GMT', 'Server': 'Apache/2.4.37 (rocky) OpenSSL/1.1.1k', 'Access-Control-Allow-Origin': '*', 'Access-Control-Allow-Methods': 'PUT, GET, POST, DELETE, OPTIONS', 'Access-Control-Allow-Headers': 'Accept, Content-Type, X-Dataverse-Key, Range', 'Access-Control-Expose-Headers': 'Accept-Ranges, Content-Range, Content-Encoding', 'Content-Type': 'application/json;charset=UTF-8', 'Content-Length': '73', 'Keep-Alive': 'timeout=5, max=100', 'Connection': 'Keep-Alive'}, 'raw': <urllib3.response.HTTPResponse object at 0x1178c9030>, 'url': 'https://payara6.odum.unc.edu/api/dataverses/359', 'encoding': 'UTF-8', 'history': [], 'reason': 'Not Found', 'cookies': <RequestsCookieJar[]>, 'elapsed': datetime.timedelta(microseconds=109720), 'request': <PreparedRequest [DELETE]>, 'connection': <requests.adapters.HTTPAdapter object at 0x10f2629b0>}\n",
      "{'_content': b'{\"status\":\"OK\",\"data\":{\"message\":\"role Test Role Automated deleted.\"}}', '_content_consumed': True, '_next': None, 'status_code': 200, 'headers': {'Date': 'Fri, 21 Apr 2023 16:43:01 GMT', 'Server': 'Apache/2.4.37 (rocky) OpenSSL/1.1.1k', 'Access-Control-Allow-Origin': '*', 'Access-Control-Allow-Methods': 'PUT, GET, POST, DELETE, OPTIONS', 'Access-Control-Allow-Headers': 'Accept, Content-Type, X-Dataverse-Key, Range', 'Access-Control-Expose-Headers': 'Accept-Ranges, Content-Range, Content-Encoding', 'Content-Type': 'application/json;charset=UTF-8', 'Content-Length': '70', 'Keep-Alive': 'timeout=5, max=100', 'Connection': 'Keep-Alive'}, 'raw': <urllib3.response.HTTPResponse object at 0x1178c8df0>, 'url': 'https://payara6.odum.unc.edu/api/roles/:alias?alias=test_role_auto', 'encoding': 'UTF-8', 'history': [], 'reason': 'OK', 'cookies': <RequestsCookieJar[]>, 'elapsed': datetime.timedelta(microseconds=113694), 'request': <PreparedRequest [DELETE]>, 'connection': <requests.adapters.HTTPAdapter object at 0x1178c9930>}\n"
     ]
    }
   ],
   "source": [
    "# Here you can delete dv resources outside the normal flow by directly providing their ids (You need to still run ingest_test and get an api token)\n",
    "ingest_test.delete_dv_resources(ds_id=667, dv_id=359, role_alias='test_role_auto')"
   ]
  }
 ],
 "metadata": {
  "kernelspec": {
   "display_name": "Python 3.10.9 64-bit",
   "language": "python",
   "name": "python3"
  },
  "language_info": {
   "codemirror_mode": {
    "name": "ipython",
    "version": 3
   },
   "file_extension": ".py",
   "mimetype": "text/x-python",
   "name": "python",
   "nbconvert_exporter": "python",
   "pygments_lexer": "ipython3",
   "version": "3.10.9"
  },
  "orig_nbformat": 4,
  "vscode": {
   "interpreter": {
    "hash": "aee8b7b246df8f9039afb4144a1f6fd8d2ca17a180786b69acc140d282b71a49"
   }
  }
 },
 "nbformat": 4,
 "nbformat_minor": 2
}
