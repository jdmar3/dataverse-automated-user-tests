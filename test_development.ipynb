{
 "cells": [
  {
   "cell_type": "code",
   "execution_count": 18,
   "metadata": {},
   "outputs": [
    {
     "name": "stdout",
     "output_type": "stream",
     "text": [
      "https://payara6.odum.unc.edu\n"
     ]
    }
   ],
   "source": [
    "# The goal of this Jupyter Notebook is to allow us to run our tests in a more interactive way\n",
    "# We can keep the session open after an error (and hopefully add sleep statements and run new sections on them)\n",
    "# This will make it much easier to write additional selenium test code, as we don't have to rerun the whole test every time.\n",
    "# There may be other ways to do this, but I was inspired by the work we did previously in R and this is very similar.\n",
    "\n",
    "import traceback, importlib#, sys\n",
    "from python.tests.mixins import dataset_testing_mixin as dtm # DataverseTestingMixin, DatasetTestingMixin\n",
    "from python.tests.mixins import dataverse_testing_mixin as dvm\n",
    "#We have to reload our libraries we are developing on each run to pick up changes\n",
    "importlib.reload(dtm)\n",
    "importlib.reload(dvm)\n",
    "from python.tests import test_ingest_workflow_report as t\n",
    "importlib.reload(t) \n",
    "\n",
    "#print(sys.modules)\n",
    "\n",
    "ingest_test = t.IngestWorkflowReportTestCase()\n",
    "ingest_test.setUp()\n",
    "try:\n",
    "    # ingest_test.test_requirements()\n",
    "    ingest_test.r01alt_mainpath_builtin_auth()\n",
    "    ingest_test.get_api_token()\n",
    "    ingest_test.r03_mainpath_create_sub_dataverse()\n",
    "    ingest_test.r04_mainpath_edit_dataverse()\n",
    "    # ingest_test.r05_mainpath_create_metadata_template()\n",
    "    # ingest_test.r06_mainpath_edit_metadata_template()\n",
    "    # ingest_test.r09_mainpath_create_dataset()\n",
    "    # ingest_test.r10_mainpath_edit_dataset()\n",
    "\n",
    "\n",
    "    # ingest_test.tearDown()\n",
    "except:\n",
    "    traceback.print_exc()"
   ]
  },
  {
   "cell_type": "code",
   "execution_count": 17,
   "metadata": {},
   "outputs": [],
   "source": [
    "# Here you can finish the test cleanup after developing\n",
    "ingest_test.tearDown()"
   ]
  },
  {
   "cell_type": "code",
   "execution_count": 32,
   "metadata": {},
   "outputs": [],
   "source": [
    "# Here you can test code after an error, keeping the window open\n",
    "\n",
    "### KEEP THIS PORTION FOR WRITING ###\n",
    "\n",
    "import time\n",
    "ingest_test.sesh.implicitly_wait(0)\n",
    "self = ingest_test #So we don't have to rewrite code copied out of tests\n",
    "\n",
    "### WRITE ACTUAL TEST CODE BELOW ###\n",
    "\n",
    "# part = '04'\n",
    "\n",
    "# self.sesh.find_element('xpath','//*[@id=\"dataverseForm:metadataRoot\"]').click()\n",
    "# time.sleep(1)\n",
    "\n",
    "# part = '05'\n",
    "\n",
    "# self.sesh.find_element('xpath','//*[@id=\"2\"]').click()\n",
    "# time.sleep(.5)\n",
    "# self.sesh.find_element('xpath','//*[@id=\"3\"]').click()\n",
    "# time.sleep(.5)\n",
    "# self.sesh.find_element('xpath','//*[@id=\"4\"]').click()\n",
    "# time.sleep(.5)\n",
    "# self.sesh.find_element('xpath','//*[@id=\"5\"]').click()\n",
    "# time.sleep(.5)\n",
    "# self.sesh.find_element('xpath','//*[@id=\"6\"]').click()\n",
    "# time.sleep(.5)\n",
    "\n",
    "# part = '06'\n",
    "\n",
    "# self.sesh.find_element('xpath','//*[@id=\"dataverseForm:facetsRoot\"]').click()\n",
    "# time.sleep(.5)\n",
    "\n",
    "# part = '07'\n",
    "\n",
    "# self.sesh.find_element('xpath','//*[@id=\"dataverseForm:j_idt330\"]').click()\n",
    "# time.sleep(.5)\n",
    "# self.sesh.find_element('xpath','//*[@id=\"dataverseForm:j_idt330_1\"]').click()\n",
    "# time.sleep(.5)\n",
    "\n",
    "# part = '08'\n",
    "\n",
    "# self.sesh.find_element('xpath','//*[@id=\"dataverseForm:facetPickListCreate\"]/div[1]/ul/li[4]').click()\n",
    "\n",
    "# part = '09'\n",
    "\n",
    "# self.sesh.find_element('xpath','//*[@id=\"dataverseForm:facetPickListCreate\"]/div[2]/div/button[1]').click()\n",
    "# self.sesh.find_element('xpath','//*[@id=\"dataverseForm:facetPickListCreate\"]/div[1]/ul/li[6]').click()\n",
    "# self.sesh.find_element('xpath','//*[@id=\"dataverseForm:facetPickListCreate\"]/div[2]/div/button[1]').click()\n",
    "\n",
    "# self.sesh.find_element('xpath','//*[@id=\"dataverseForm:cancel\"]/span').click()\n",
    "\n",
    "# self.sesh.find_element('xpath', '//*[@id=\"templateForm:editMetadataFragement\"]').click()\n",
    "# self.sesh.find_element('xpath','//*[@id=\"templateForm:j_idt620:0:j_idt623:5:j_idt677:0:j_idt679:2:cvv\"]').click() \n",
    "# from selenium import JavascriptExecutor\n",
    "# JavascriptExecutor js = (JavascriptExecutor)driver;\n",
    "# js.executeScript(\"arguments[0].click();\", element);\n",
    "\n",
    "#self.sesh.execute_script('document.evaluate(\\'//*[@id=\"templateForm:j_idt620:0:j_idt623:5:j_idt677:0:j_idt679:2:cvv\"]/div[3]\\', document, null, XPathResult.FIRST_ORDERED_NODE_TYPE, null).singleNodeValue.click()')\n",
    "#self.sesh.execute_script('document.evaluate(\\'//*[@id=\"templateForm\"]/div[1]\\', document, null, XPathResult.FIRST_ORDERED_NODE_TYPE, null).singleNodeValue.click()')\n",
    "\n",
    "\n",
    "#javas = \"document.getElementsByName('user-search')[0].click();\"\n",
    "#driver.execute_script(javas)\n",
    "# self.sesh.find_element('xpath','//*[@id=\"datasetForm:tabView:j_idt1622:0:j_idt1625:8:unique2\"]/ul/li/span[1]').click() #Delete existing field \"Other\"\n",
    "# self.sesh.find_element('xpath','//*[@id=\"datasetForm:tabView:j_idt1622:0:j_idt1625:8:unique2\"]').click() #click subject dropdown\n",
    "# time.sleep(1)\n",
    "\n",
    "# self.sesh.find_element('xpath','//*[@id=\"datasetForm:tabView:j_idt1622:0:j_idt1625:8:unique2_panel\"]/div[2]/ul/li[10]/div').click() #click \"mathematical science\" inside dropdown"
   ]
  },
  {
   "cell_type": "code",
   "execution_count": null,
   "metadata": {},
   "outputs": [],
   "source": [
    "# Here you can delete dv resources outside the normal flow by directly providing their ids (You need to still run ingest_test and get an api token)\n",
    "ingest_test.delete_dv_resources(ds_id=452, dv_id=359)"
   ]
  }
 ],
 "metadata": {
  "kernelspec": {
   "display_name": "Python 3.10.9 64-bit",
   "language": "python",
   "name": "python3"
  },
  "language_info": {
   "codemirror_mode": {
    "name": "ipython",
    "version": 3
   },
   "file_extension": ".py",
   "mimetype": "text/x-python",
   "name": "python",
   "nbconvert_exporter": "python",
   "pygments_lexer": "ipython3",
   "version": "3.10.9"
  },
  "orig_nbformat": 4,
  "vscode": {
   "interpreter": {
    "hash": "aee8b7b246df8f9039afb4144a1f6fd8d2ca17a180786b69acc140d282b71a49"
   }
  }
 },
 "nbformat": 4,
 "nbformat_minor": 2
}
