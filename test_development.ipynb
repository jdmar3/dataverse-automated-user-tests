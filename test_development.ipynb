{
 "cells": [
  {
   "cell_type": "code",
   "execution_count": 50,
   "metadata": {},
   "outputs": [],
   "source": [
    "# The goal of this Jupyter Notebook is to allow us to run our tests in a more interactive way\n",
    "# We can keep the session open after an error (and hopefully add sleep statements and run new sections on them)\n",
    "# This will make it much easier to write additional selenium test code, as we don't have to rerun the whole test every time.\n",
    "# There may be other ways to do this, but I was inspired by the work we did previously in R and this is very similar.\n",
    "\n",
    "import traceback, importlib#, sys\n",
    "from python.tests.mixins import dataset_testing_mixin as dtm # DataverseTestingMixin, DatasetTestingMixin\n",
    "from python.tests.mixins import dataverse_testing_mixin as dvm\n",
    "#We have to reload our libraries we are developing on each run to pick up changes\n",
    "importlib.reload(dtm)\n",
    "importlib.reload(dvm)\n",
    "from python.tests import test_ingest_workflow_report as t\n",
    "importlib.reload(t) \n",
    "\n",
    "#print(sys.modules)\n",
    "\n",
    "ingest_test = t.IngestWorkflowReportTestCase()\n",
    "ingest_test.setUp()\n",
    "try:\n",
    "    # ingest_test.test_requirements()\n",
    "    ingest_test.r01_mainpath_test_sso_auth()\n",
    "    #ingest_test.r01alt_mainpath_builtin_auth()\n",
    "    ingest_test.get_api_token() \n",
    "    ingest_test.r02_mainpath_add_user_group_role()\n",
    "    ingest_test.r03_mainpath_create_sub_dataverse()\n",
    "    ingest_test.r04_mainpath_edit_dataverse()\n",
    "    ingest_test.r05_mainpath_create_metadata_template()\n",
    "    ingest_test.r06_mainpath_edit_metadata_template()\n",
    "    ingest_test.r07r08r10r11r16_mainpath_create_dataset()\n",
    "    ingest_test.r09r12r13r14r15_mainpath_edit_dataset()\n",
    "    ingest_test.r17r18r19r20r21_dataset_file_discovery()\n",
    "\n",
    "    # ingest_test.tearDown()\n",
    "except:\n",
    "    traceback.print_exc()"
   ]
  },
  {
   "cell_type": "code",
   "execution_count": 49,
   "metadata": {},
   "outputs": [
    {
     "name": "stdout",
     "output_type": "stream",
     "text": [
      "Role delete called. Result: 200 - Dataset 1000 destroyed\n",
      "Role delete called. Result: 200 - Dataverse 999 deleted\n",
      "Role delete called. Result: 200 - role Test Role Automated deleted.\n"
     ]
    }
   ],
   "source": [
    "# Here you can finish the test cleanup after developing\n",
    "ingest_test.tearDown()"
   ]
  },
  {
   "cell_type": "code",
   "execution_count": 52,
   "metadata": {},
   "outputs": [],
   "source": [
    "# Here you can test code after an error, keeping the window open\n",
    "\n",
    "### KEEP THIS PORTION FOR WRITING ###\n",
    "\n",
    "import time\n",
    "from selenium.webdriver.common.keys import Keys\n",
    "ingest_test.sesh.implicitly_wait(5)\n",
    "self = ingest_test #So we don't have to rewrite code copied out of tests\n",
    "\n",
    "### WRITE ACTUAL TEST CODE BELOW ###\n",
    "    "
   ]
  },
  {
   "cell_type": "markdown",
   "metadata": {},
   "source": []
  },
  {
   "cell_type": "code",
   "execution_count": 55,
   "metadata": {},
   "outputs": [
    {
     "name": "stdout",
     "output_type": "stream",
     "text": [
      "Role delete called. Result: 200 - Dataset 1024 destroyed\n",
      "Role delete called. Result: 404 - {\"status\":\"ERROR\",\"message\":\"Can't find dataverse with identifier='359'\"}\n",
      "Role delete called. Result: 200 - role Test Role Automated deleted.\n"
     ]
    }
   ],
   "source": [
    "# Here you can delete dv resources outside the normal flow by directly providing their ids (You need to still run ingest_test and get an api token)\n",
    "ingest_test.delete_dv_resources(ds_id=1024, dv_id=359, r_alias='test_role_auto')"
   ]
  }
 ],
 "metadata": {
  "kernelspec": {
   "display_name": "Python 3.10.9 64-bit",
   "language": "python",
   "name": "python3"
  },
  "language_info": {
   "codemirror_mode": {
    "name": "ipython",
    "version": 3
   },
   "file_extension": ".py",
   "mimetype": "text/x-python",
   "name": "python",
   "nbconvert_exporter": "python",
   "pygments_lexer": "ipython3",
   "version": "3.10.9"
  },
  "orig_nbformat": 4,
  "vscode": {
   "interpreter": {
    "hash": "aee8b7b246df8f9039afb4144a1f6fd8d2ca17a180786b69acc140d282b71a49"
   }
  }
 },
 "nbformat": 4,
 "nbformat_minor": 2
}
