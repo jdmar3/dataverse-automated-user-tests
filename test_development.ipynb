{
 "cells": [
  {
   "cell_type": "code",
   "execution_count": 8,
   "metadata": {},
   "outputs": [
    {
     "name": "stdout",
     "output_type": "stream",
     "text": [
      "https://payara6.odum.unc.edu\n",
      "Tests Complete\n"
     ]
    }
   ],
   "source": [
    "# The goal of this Jupyter Notebook is to allow us to run our tests in a more interactive way\n",
    "# We can keep the session open after an error (and hopefully add sleep statements and run new sections on them)\n",
    "# This will make it much easier to write additional selenium test code, as we don't have to rerun the whole test every time.\n",
    "# There may be other ways to do this, but I was inspired by the work we did previously in R and this is very similar.\n",
    "\n",
    "import traceback, importlib#, sys\n",
    "from python.tests.mixins import dataset_testing_mixin as dtm # DataverseTestingMixin, DatasetTestingMixin\n",
    "from python.tests.mixins import dataverse_testing_mixin as dvm\n",
    "#We have to reload our libraries we are developing on each run to pick up changes\n",
    "importlib.reload(dtm)\n",
    "importlib.reload(dvm)\n",
    "from python.tests import test_ingest_workflow_report as t\n",
    "importlib.reload(t) \n",
    "\n",
    "#print(sys.modules)\n",
    "\n",
    "ingest_test = t.IngestWorkflowReportTestCase()\n",
    "ingest_test.setUp()\n",
    "try:\n",
    "    ingest_test.r01alt_mainpath_builtin_auth()\n",
    "    ingest_test.get_api_token()\n",
    "    #ingest_test.tearDown()\n",
    "except:\n",
    "    traceback.print_exc()"
   ]
  },
  {
   "cell_type": "code",
   "execution_count": 2,
   "metadata": {},
   "outputs": [],
   "source": [
    "# Here you can finish the test cleanup after developing\n",
    "ingest_test.tearDown()"
   ]
  },
  {
   "cell_type": "code",
   "execution_count": 3,
   "metadata": {},
   "outputs": [
    {
     "ename": "NoSuchElementException",
     "evalue": "Message: no such element: Unable to locate element: {\"method\":\"xpath\",\"selector\":\"//*[@id=\"datasetForm:cancel\"]\"}\n  (Session info: chrome=111.0.5563.64)\nStacktrace:\n0   chromedriver                        0x0000000102ef9428 chromedriver + 4899880\n1   chromedriver                        0x0000000102e76a23 chromedriver + 4364835\n2   chromedriver                        0x0000000102ac0bf6 chromedriver + 474102\n3   chromedriver                        0x0000000102b044f0 chromedriver + 750832\n4   chromedriver                        0x0000000102b04751 chromedriver + 751441\n5   chromedriver                        0x0000000102b48834 chromedriver + 1030196\n6   chromedriver                        0x0000000102b2a58d chromedriver + 906637\n7   chromedriver                        0x0000000102b45b5b chromedriver + 1018715\n8   chromedriver                        0x0000000102b2a333 chromedriver + 906035\n9   chromedriver                        0x0000000102af455f chromedriver + 685407\n10  chromedriver                        0x0000000102af5a7e chromedriver + 690814\n11  chromedriver                        0x0000000102ec679e chromedriver + 4691870\n12  chromedriver                        0x0000000102ecb961 chromedriver + 4712801\n13  chromedriver                        0x0000000102ed22ff chromedriver + 4739839\n14  chromedriver                        0x0000000102ecc85a chromedriver + 4716634\n15  chromedriver                        0x0000000102e9efce chromedriver + 4530126\n16  chromedriver                        0x0000000102eec5c8 chromedriver + 4847048\n17  chromedriver                        0x0000000102eec747 chromedriver + 4847431\n18  chromedriver                        0x0000000102f0187f chromedriver + 4933759\n19  libsystem_pthread.dylib             0x00007ff807a67259 _pthread_start + 125\n20  libsystem_pthread.dylib             0x00007ff807a62c7b thread_start + 15\n",
     "output_type": "error",
     "traceback": [
      "\u001b[0;31m---------------------------------------------------------------------------\u001b[0m",
      "\u001b[0;31mNoSuchElementException\u001b[0m                    Traceback (most recent call last)",
      "Cell \u001b[0;32mIn[3], line 5\u001b[0m\n\u001b[1;32m      3\u001b[0m ingest_test\u001b[38;5;241m.\u001b[39msesh\u001b[38;5;241m.\u001b[39mimplicitly_wait(\u001b[38;5;241m0\u001b[39m)\n\u001b[1;32m      4\u001b[0m \u001b[38;5;28mself\u001b[39m \u001b[38;5;241m=\u001b[39m ingest_test \u001b[38;5;66;03m#So we don't have to rewrite code copied out of tests\u001b[39;00m\n\u001b[0;32m----> 5\u001b[0m \u001b[38;5;28;43mself\u001b[39;49m\u001b[38;5;241;43m.\u001b[39;49m\u001b[43msesh\u001b[49m\u001b[38;5;241;43m.\u001b[39;49m\u001b[43mfind_element\u001b[49m\u001b[43m(\u001b[49m\u001b[38;5;124;43m'\u001b[39;49m\u001b[38;5;124;43mxpath\u001b[39;49m\u001b[38;5;124;43m'\u001b[39;49m\u001b[43m,\u001b[49m\u001b[38;5;124;43m'\u001b[39;49m\u001b[38;5;124;43m//*[@id=\u001b[39;49m\u001b[38;5;124;43m\"\u001b[39;49m\u001b[38;5;124;43mdatasetForm:cancel\u001b[39;49m\u001b[38;5;124;43m\"\u001b[39;49m\u001b[38;5;124;43m]\u001b[39;49m\u001b[38;5;124;43m'\u001b[39;49m\u001b[43m)\u001b[49m\u001b[38;5;241m.\u001b[39mclick()\n\u001b[1;32m      6\u001b[0m \u001b[38;5;66;03m# self.sesh.find_element('xpath', '//*[@id=\"templateForm:editMetadataFragement\"]').click()\u001b[39;00m\n\u001b[1;32m      7\u001b[0m \u001b[38;5;66;03m# self.sesh.find_element('xpath','//*[@id=\"templateForm:j_idt620:0:j_idt623:5:j_idt677:0:j_idt679:2:cvv\"]').click() \u001b[39;00m\n\u001b[1;32m      8\u001b[0m \u001b[38;5;66;03m# from selenium import JavascriptExecutor\u001b[39;00m\n\u001b[0;32m   (...)\u001b[0m\n\u001b[1;32m     21\u001b[0m \n\u001b[1;32m     22\u001b[0m \u001b[38;5;66;03m# self.sesh.find_element('xpath','//*[@id=\"datasetForm:tabView:j_idt1622:0:j_idt1625:8:unique2_panel\"]/div[2]/ul/li[10]/div').click() #click \"mathematical science\" inside dropdown\u001b[39;00m\n",
      "File \u001b[0;32m/usr/local/lib/python3.10/site-packages/selenium/webdriver/remote/webdriver.py:830\u001b[0m, in \u001b[0;36mWebDriver.find_element\u001b[0;34m(self, by, value)\u001b[0m\n\u001b[1;32m    827\u001b[0m     by \u001b[39m=\u001b[39m By\u001b[39m.\u001b[39mCSS_SELECTOR\n\u001b[1;32m    828\u001b[0m     value \u001b[39m=\u001b[39m \u001b[39mf\u001b[39m\u001b[39m'\u001b[39m\u001b[39m[name=\u001b[39m\u001b[39m\"\u001b[39m\u001b[39m{\u001b[39;00mvalue\u001b[39m}\u001b[39;00m\u001b[39m\"\u001b[39m\u001b[39m]\u001b[39m\u001b[39m'\u001b[39m\n\u001b[0;32m--> 830\u001b[0m \u001b[39mreturn\u001b[39;00m \u001b[39mself\u001b[39;49m\u001b[39m.\u001b[39;49mexecute(Command\u001b[39m.\u001b[39;49mFIND_ELEMENT, {\u001b[39m\"\u001b[39;49m\u001b[39musing\u001b[39;49m\u001b[39m\"\u001b[39;49m: by, \u001b[39m\"\u001b[39;49m\u001b[39mvalue\u001b[39;49m\u001b[39m\"\u001b[39;49m: value})[\u001b[39m\"\u001b[39m\u001b[39mvalue\u001b[39m\u001b[39m\"\u001b[39m]\n",
      "File \u001b[0;32m/usr/local/lib/python3.10/site-packages/selenium/webdriver/remote/webdriver.py:440\u001b[0m, in \u001b[0;36mWebDriver.execute\u001b[0;34m(self, driver_command, params)\u001b[0m\n\u001b[1;32m    438\u001b[0m response \u001b[39m=\u001b[39m \u001b[39mself\u001b[39m\u001b[39m.\u001b[39mcommand_executor\u001b[39m.\u001b[39mexecute(driver_command, params)\n\u001b[1;32m    439\u001b[0m \u001b[39mif\u001b[39;00m response:\n\u001b[0;32m--> 440\u001b[0m     \u001b[39mself\u001b[39;49m\u001b[39m.\u001b[39;49merror_handler\u001b[39m.\u001b[39;49mcheck_response(response)\n\u001b[1;32m    441\u001b[0m     response[\u001b[39m\"\u001b[39m\u001b[39mvalue\u001b[39m\u001b[39m\"\u001b[39m] \u001b[39m=\u001b[39m \u001b[39mself\u001b[39m\u001b[39m.\u001b[39m_unwrap_value(response\u001b[39m.\u001b[39mget(\u001b[39m\"\u001b[39m\u001b[39mvalue\u001b[39m\u001b[39m\"\u001b[39m, \u001b[39mNone\u001b[39;00m))\n\u001b[1;32m    442\u001b[0m     \u001b[39mreturn\u001b[39;00m response\n",
      "File \u001b[0;32m/usr/local/lib/python3.10/site-packages/selenium/webdriver/remote/errorhandler.py:245\u001b[0m, in \u001b[0;36mErrorHandler.check_response\u001b[0;34m(self, response)\u001b[0m\n\u001b[1;32m    243\u001b[0m         alert_text \u001b[39m=\u001b[39m value[\u001b[39m\"\u001b[39m\u001b[39malert\u001b[39m\u001b[39m\"\u001b[39m]\u001b[39m.\u001b[39mget(\u001b[39m\"\u001b[39m\u001b[39mtext\u001b[39m\u001b[39m\"\u001b[39m)\n\u001b[1;32m    244\u001b[0m     \u001b[39mraise\u001b[39;00m exception_class(message, screen, stacktrace, alert_text)  \u001b[39m# type: ignore[call-arg]  # mypy is not smart enough here\u001b[39;00m\n\u001b[0;32m--> 245\u001b[0m \u001b[39mraise\u001b[39;00m exception_class(message, screen, stacktrace)\n",
      "\u001b[0;31mNoSuchElementException\u001b[0m: Message: no such element: Unable to locate element: {\"method\":\"xpath\",\"selector\":\"//*[@id=\"datasetForm:cancel\"]\"}\n  (Session info: chrome=111.0.5563.64)\nStacktrace:\n0   chromedriver                        0x0000000102ef9428 chromedriver + 4899880\n1   chromedriver                        0x0000000102e76a23 chromedriver + 4364835\n2   chromedriver                        0x0000000102ac0bf6 chromedriver + 474102\n3   chromedriver                        0x0000000102b044f0 chromedriver + 750832\n4   chromedriver                        0x0000000102b04751 chromedriver + 751441\n5   chromedriver                        0x0000000102b48834 chromedriver + 1030196\n6   chromedriver                        0x0000000102b2a58d chromedriver + 906637\n7   chromedriver                        0x0000000102b45b5b chromedriver + 1018715\n8   chromedriver                        0x0000000102b2a333 chromedriver + 906035\n9   chromedriver                        0x0000000102af455f chromedriver + 685407\n10  chromedriver                        0x0000000102af5a7e chromedriver + 690814\n11  chromedriver                        0x0000000102ec679e chromedriver + 4691870\n12  chromedriver                        0x0000000102ecb961 chromedriver + 4712801\n13  chromedriver                        0x0000000102ed22ff chromedriver + 4739839\n14  chromedriver                        0x0000000102ecc85a chromedriver + 4716634\n15  chromedriver                        0x0000000102e9efce chromedriver + 4530126\n16  chromedriver                        0x0000000102eec5c8 chromedriver + 4847048\n17  chromedriver                        0x0000000102eec747 chromedriver + 4847431\n18  chromedriver                        0x0000000102f0187f chromedriver + 4933759\n19  libsystem_pthread.dylib             0x00007ff807a67259 _pthread_start + 125\n20  libsystem_pthread.dylib             0x00007ff807a62c7b thread_start + 15\n"
     ]
    }
   ],
   "source": [
    "# Here you can test code after an error, keeping the window open\n",
    "import time\n",
    "ingest_test.sesh.implicitly_wait(0)\n",
    "self = ingest_test #So we don't have to rewrite code copied out of tests\n",
    "self.sesh.find_element('xpath','//*[@id=\"datasetForm:cancel\"]').click()\n",
    "# self.sesh.find_element('xpath', '//*[@id=\"templateForm:editMetadataFragement\"]').click()\n",
    "# self.sesh.find_element('xpath','//*[@id=\"templateForm:j_idt620:0:j_idt623:5:j_idt677:0:j_idt679:2:cvv\"]').click() \n",
    "# from selenium import JavascriptExecutor\n",
    "# JavascriptExecutor js = (JavascriptExecutor)driver;\n",
    "# js.executeScript(\"arguments[0].click();\", element);\n",
    "\n",
    "#self.sesh.execute_script('document.evaluate(\\'//*[@id=\"templateForm:j_idt620:0:j_idt623:5:j_idt677:0:j_idt679:2:cvv\"]/div[3]\\', document, null, XPathResult.FIRST_ORDERED_NODE_TYPE, null).singleNodeValue.click()')\n",
    "#self.sesh.execute_script('document.evaluate(\\'//*[@id=\"templateForm\"]/div[1]\\', document, null, XPathResult.FIRST_ORDERED_NODE_TYPE, null).singleNodeValue.click()')\n",
    "\n",
    "\n",
    "#javas = \"document.getElementsByName('user-search')[0].click();\"\n",
    "#driver.execute_script(javas)\n",
    "# self.sesh.find_element('xpath','//*[@id=\"datasetForm:tabView:j_idt1622:0:j_idt1625:8:unique2\"]/ul/li/span[1]').click() #Delete existing field \"Other\"\n",
    "# self.sesh.find_element('xpath','//*[@id=\"datasetForm:tabView:j_idt1622:0:j_idt1625:8:unique2\"]').click() #click subject dropdown\n",
    "# time.sleep(1)\n",
    "\n",
    "# self.sesh.find_element('xpath','//*[@id=\"datasetForm:tabView:j_idt1622:0:j_idt1625:8:unique2_panel\"]/div[2]/ul/li[10]/div').click() #click \"mathematical science\" inside dropdown"
   ]
  },
  {
   "cell_type": "code",
   "execution_count": 9,
   "metadata": {},
   "outputs": [],
   "source": [
    "# Here you can delete dv resources outside the normal flow by directly providing their ids (You need to still run ingest_test and get an api token)\n",
    "ingest_test.delete_dv_resources(ds_id=452, dv_id=359)"
   ]
  }
 ],
 "metadata": {
  "kernelspec": {
   "display_name": "Python 3.10.9 64-bit",
   "language": "python",
   "name": "python3"
  },
  "language_info": {
   "codemirror_mode": {
    "name": "ipython",
    "version": 3
   },
   "file_extension": ".py",
   "mimetype": "text/x-python",
   "name": "python",
   "nbconvert_exporter": "python",
   "pygments_lexer": "ipython3",
   "version": "3.10.9"
  },
  "orig_nbformat": 4,
  "vscode": {
   "interpreter": {
    "hash": "aee8b7b246df8f9039afb4144a1f6fd8d2ca17a180786b69acc140d282b71a49"
   }
  }
 },
 "nbformat": 4,
 "nbformat_minor": 2
}
