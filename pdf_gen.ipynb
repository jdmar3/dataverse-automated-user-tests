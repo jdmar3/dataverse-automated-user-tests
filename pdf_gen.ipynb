{
 "cells": [
  {
   "cell_type": "code",
   "execution_count": 3,
   "metadata": {},
   "outputs": [
    {
     "data": {
      "text/html": [
       "<style id='test'>label[id^='ipyplot-html-viewer-label'] { display: none; visibility: hidden; }</style>"
      ],
      "text/plain": [
       "<IPython.core.display.HTML object>"
      ]
     },
     "metadata": {},
     "output_type": "display_data"
    }
   ],
   "source": [
    "#NOTE: This route has been abandoned in favor of direct python pdf generation\n",
    "#      It seems much easier to directly define our HTML instead of fighting jupyter and nbconvert and ipyplot (etc) for formatting\n",
    "\n",
    "#python3 -m jupyter nbconvert /Users/madunlap/Documents/GitHub/dataverse-automated-user-tests/python/pdf_gen.ipynb --to html --output pdf_gen.html --output-dir /Users/madunlap/Desktop --debug --no-input\n",
    "\n",
    "#Hides warning messages, for example ipyplot's warning about object coercion\n",
    "import warnings\n",
    "from IPython.display import display, HTML, Image\n",
    "warnings.filterwarnings('ignore')\n",
    "\n",
    "tests_have_passed = True\n",
    "def pdf_test_runner(test):\n",
    "    global tests_have_passed\n",
    "    return_dict = {}\n",
    "\n",
    "    if tests_have_passed:        \n",
    "        try:\n",
    "            return_dict = test()\n",
    "        except Exception:\n",
    "            traceback.print_exc()\n",
    "            tests_have_passed = False\n",
    "    \n",
    "    return_dict['success'] = tests_have_passed\n",
    "    return return_dict\n",
    "\n",
    "#TODO: We probably need more css to hide the space generated outside the label. Mabye parent parent div?\n",
    "display(HTML(\"<style id='test'>label[id^='ipyplot-html-viewer-label'] { display: none; visibility: hidden; }</style>\"))"
   ]
  },
  {
   "cell_type": "code",
   "execution_count": null,
   "metadata": {},
   "outputs": [],
   "source": [
    "import traceback, importlib, ipyplot\n",
    "#from IPython.display import Image\n",
    "\n",
    "from python.tests.mixins import dataset_testing_mixin as dtm # DataverseTestingMixin, DatasetTestingMixin\n",
    "from python.tests.mixins import dataverse_testing_mixin as dvm\n",
    "#We have to reload our libraries we are developing on each run to pick up changes\n",
    "importlib.reload(dtm)\n",
    "importlib.reload(dvm)\n",
    "from python.tests import test_ingest_workflow_report as t\n",
    "importlib.reload(t) \n",
    "\n",
    "ingest_test = t.IngestWorkflowReportTestCase(capture=False)\n",
    "ingest_test.setUp()\n",
    "\n",
    "test01_result = pdf_test_runner(ingest_test.r01alt_mainpath_builtin_auth)\n",
    "# display(Image(test01_result['screenshot1'])) #Display one image\n",
    "# display(Image(test01_result['screenshot1']),Image(test01_result['screenshot1'])) #Display 2 images vertical\n",
    "\n",
    "#TODO: \n",
    "#      ... After this, we need to break up the tests and display our iamges with tahe requirement text. I may want to think about grouping the images for easy of use in notebook\n",
    "#      ... Also test pdf gen\n",
    "#ipyplot.plot_images([test01_result['screenshot1'], test01_result['screenshot1'], test01_result['screenshot1']], max_images=30, img_width=300, labels=['title a','title b','title c'], custom_texts=['subtitle a','subtitle b','subtitle c'])\n",
    "\n",
    "#print(ingest_test.tearDown())\n",
    "\n",
    "#print (\"Test 01 : \" + str(pdf_test_runner(ingest_test.r01alt_mainpath_builtin_auth)))\n",
    "#pdf_test_runner(ingest_test.get_api_token)\n",
    "# print (\"Test 03: \" + str(pdf_test_runner(ingest_test.r03_mainpath_create_sub_dataverse)))\n",
    "# print (\"Test 04: \" + str(pdf_test_runner(ingest_test.r04_mainpath_edit_dataverse)))\n",
    "# print (\"Test 05: \" + str(pdf_test_runner(ingest_test.r05_mainpath_create_metadata_template)))\n",
    "# print (\"Test 06: \" + str(pdf_test_runner(ingest_test.r06_mainpath_edit_metadata_template)))\n",
    "# print (\"Test 09: \" + str(pdf_test_runner(ingest_test.r09r11r13r20_mainpath_create_dataset)))\n",
    "# print (\"Test 10: \" + str(pdf_test_runner(ingest_test.r10r12r15r16r17_mainpath_edit_dataset)))"
   ]
  }
 ],
 "metadata": {
  "kernelspec": {
   "display_name": "Python 3.10.9 64-bit",
   "language": "python",
   "name": "python3"
  },
  "language_info": {
   "codemirror_mode": {
    "name": "ipython",
    "version": 3
   },
   "file_extension": ".py",
   "mimetype": "text/x-python",
   "name": "python",
   "nbconvert_exporter": "python",
   "pygments_lexer": "ipython3",
   "version": "3.10.9"
  },
  "orig_nbformat": 4,
  "vscode": {
   "interpreter": {
    "hash": "aee8b7b246df8f9039afb4144a1f6fd8d2ca17a180786b69acc140d282b71a49"
   }
  }
 },
 "nbformat": 4,
 "nbformat_minor": 2
}
