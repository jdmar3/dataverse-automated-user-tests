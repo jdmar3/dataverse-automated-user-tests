{
 "cells": [
  {
   "cell_type": "code",
   "execution_count": 3,
   "metadata": {},
   "outputs": [
    {
     "data": {
      "text/html": [
       "<style id='test'>label[id^='ipyplot-html-viewer-label'] { display: none; visibility: hidden; }</style>"
      ],
      "text/plain": [
       "<IPython.core.display.HTML object>"
      ]
     },
     "metadata": {},
     "output_type": "display_data"
    }
   ],
   "source": [
    "#NOTE: This route has been abandoned in favor of direct python pdf generation\n",
    "#      It seems much easier to directly define our HTML instead of fighting jupyter and nbconvert and ipyplot (etc) for formatting\n",
    "\n",
    "#python3 -m jupyter nbconvert /Users/madunlap/Documents/GitHub/dataverse-automated-user-tests/python/pdf_gen.ipynb --to html --output pdf_gen.html --output-dir /Users/madunlap/Desktop --debug --no-input\n",
    "\n",
    "#Hides warning messages, for example ipyplot's warning about object coercion\n",
    "import warnings\n",
    "from IPython.display import display, HTML, Image\n",
    "warnings.filterwarnings('ignore')\n",
    "\n",
    "tests_have_passed = True\n",
    "def pdf_test_runner(test):\n",
    "    global tests_have_passed\n",
    "    return_dict = {}\n",
    "\n",
    "    if tests_have_passed:        \n",
    "        try:\n",
    "            return_dict = test()\n",
    "        except Exception:\n",
    "            traceback.print_exc()\n",
    "            tests_have_passed = False\n",
    "    \n",
    "    return_dict['success'] = tests_have_passed\n",
    "    return return_dict\n",
    "\n",
    "#TODO: We probably need more css to hide the space generated outside the label. Mabye parent parent div?\n",
    "display(HTML(\"<style id='test'>label[id^='ipyplot-html-viewer-label'] { display: none; visibility: hidden; }</style>\"))"
   ]
  },
  {
   "cell_type": "code",
   "execution_count": 4,
   "metadata": {},
   "outputs": [
    {
     "name": "stdout",
     "output_type": "stream",
     "text": [
      "https://payara6.odum.unc.edu\n"
     ]
    },
    {
     "ename": "KeyError",
     "evalue": "'screenshot1'",
     "output_type": "error",
     "traceback": [
      "\u001b[0;31m---------------------------------------------------------------------------\u001b[0m",
      "\u001b[0;31mKeyError\u001b[0m                                  Traceback (most recent call last)",
      "Cell \u001b[0;32mIn[4], line 22\u001b[0m\n\u001b[1;32m     15\u001b[0m test01_result \u001b[38;5;241m=\u001b[39m pdf_test_runner(ingest_test\u001b[38;5;241m.\u001b[39mr01alt_mainpath_builtin_auth)\n\u001b[1;32m     16\u001b[0m \u001b[38;5;66;03m# display(Image(test01_result['screenshot1'])) #Display one image\u001b[39;00m\n\u001b[1;32m     17\u001b[0m \u001b[38;5;66;03m# display(Image(test01_result['screenshot1']),Image(test01_result['screenshot1'])) #Display 2 images vertical\u001b[39;00m\n\u001b[1;32m     18\u001b[0m \n\u001b[1;32m     19\u001b[0m \u001b[38;5;66;03m#TODO: \u001b[39;00m\n\u001b[1;32m     20\u001b[0m \u001b[38;5;66;03m#      ... After this, we need to break up the tests and display our iamges with tahe requirement text. I may want to think about grouping the images for easy of use in notebook\u001b[39;00m\n\u001b[1;32m     21\u001b[0m \u001b[38;5;66;03m#      ... Also test pdf gen\u001b[39;00m\n\u001b[0;32m---> 22\u001b[0m ipyplot\u001b[38;5;241m.\u001b[39mplot_images([\u001b[43mtest01_result\u001b[49m\u001b[43m[\u001b[49m\u001b[38;5;124;43m'\u001b[39;49m\u001b[38;5;124;43mscreenshot1\u001b[39;49m\u001b[38;5;124;43m'\u001b[39;49m\u001b[43m]\u001b[49m, test01_result[\u001b[38;5;124m'\u001b[39m\u001b[38;5;124mscreenshot1\u001b[39m\u001b[38;5;124m'\u001b[39m], test01_result[\u001b[38;5;124m'\u001b[39m\u001b[38;5;124mscreenshot1\u001b[39m\u001b[38;5;124m'\u001b[39m]], max_images\u001b[38;5;241m=\u001b[39m\u001b[38;5;241m30\u001b[39m, img_width\u001b[38;5;241m=\u001b[39m\u001b[38;5;241m300\u001b[39m, labels\u001b[38;5;241m=\u001b[39m[\u001b[38;5;124m'\u001b[39m\u001b[38;5;124mtitle a\u001b[39m\u001b[38;5;124m'\u001b[39m,\u001b[38;5;124m'\u001b[39m\u001b[38;5;124mtitle b\u001b[39m\u001b[38;5;124m'\u001b[39m,\u001b[38;5;124m'\u001b[39m\u001b[38;5;124mtitle c\u001b[39m\u001b[38;5;124m'\u001b[39m], custom_texts\u001b[38;5;241m=\u001b[39m[\u001b[38;5;124m'\u001b[39m\u001b[38;5;124msubtitle a\u001b[39m\u001b[38;5;124m'\u001b[39m,\u001b[38;5;124m'\u001b[39m\u001b[38;5;124msubtitle b\u001b[39m\u001b[38;5;124m'\u001b[39m,\u001b[38;5;124m'\u001b[39m\u001b[38;5;124msubtitle c\u001b[39m\u001b[38;5;124m'\u001b[39m])\n\u001b[1;32m     24\u001b[0m \u001b[38;5;66;03m#print(ingest_test.tearDown())\u001b[39;00m\n\u001b[1;32m     25\u001b[0m \n\u001b[1;32m     26\u001b[0m \u001b[38;5;66;03m#print (\"Test 01 : \" + str(pdf_test_runner(ingest_test.r01alt_mainpath_builtin_auth)))\u001b[39;00m\n\u001b[0;32m   (...)\u001b[0m\n\u001b[1;32m     32\u001b[0m \u001b[38;5;66;03m# print (\"Test 09: \" + str(pdf_test_runner(ingest_test.r09_mainpath_create_dataset)))\u001b[39;00m\n\u001b[1;32m     33\u001b[0m \u001b[38;5;66;03m# print (\"Test 10: \" + str(pdf_test_runner(ingest_test.r10_mainpath_edit_dataset)))\u001b[39;00m\n",
      "\u001b[0;31mKeyError\u001b[0m: 'screenshot1'"
     ]
    }
   ],
   "source": [
    "import traceback, importlib, ipyplot\n",
    "#from IPython.display import Image\n",
    "\n",
    "from python.tests.mixins import dataset_testing_mixin as dtm # DataverseTestingMixin, DatasetTestingMixin\n",
    "from python.tests.mixins import dataverse_testing_mixin as dvm\n",
    "#We have to reload our libraries we are developing on each run to pick up changes\n",
    "importlib.reload(dtm)\n",
    "importlib.reload(dvm)\n",
    "from python.tests import test_ingest_workflow_report as t\n",
    "importlib.reload(t) \n",
    "\n",
    "ingest_test = t.IngestWorkflowReportTestCase(screenshots=True)\n",
    "ingest_test.setUp()\n",
    "\n",
    "test01_result = pdf_test_runner(ingest_test.r01alt_mainpath_builtin_auth)\n",
    "# display(Image(test01_result['screenshot1'])) #Display one image\n",
    "# display(Image(test01_result['screenshot1']),Image(test01_result['screenshot1'])) #Display 2 images vertical\n",
    "\n",
    "#TODO: \n",
    "#      ... After this, we need to break up the tests and display our iamges with tahe requirement text. I may want to think about grouping the images for easy of use in notebook\n",
    "#      ... Also test pdf gen\n",
    "#ipyplot.plot_images([test01_result['screenshot1'], test01_result['screenshot1'], test01_result['screenshot1']], max_images=30, img_width=300, labels=['title a','title b','title c'], custom_texts=['subtitle a','subtitle b','subtitle c'])\n",
    "\n",
    "#print(ingest_test.tearDown())\n",
    "\n",
    "#print (\"Test 01 : \" + str(pdf_test_runner(ingest_test.r01alt_mainpath_builtin_auth)))\n",
    "#pdf_test_runner(ingest_test.get_api_token)\n",
    "# print (\"Test 03: \" + str(pdf_test_runner(ingest_test.r03_mainpath_create_sub_dataverse)))\n",
    "# print (\"Test 04: \" + str(pdf_test_runner(ingest_test.r04_mainpath_edit_dataverse)))\n",
    "# print (\"Test 05: \" + str(pdf_test_runner(ingest_test.r05_mainpath_create_metadata_template)))\n",
    "# print (\"Test 06: \" + str(pdf_test_runner(ingest_test.r06_mainpath_edit_metadata_template)))\n",
    "# print (\"Test 09: \" + str(pdf_test_runner(ingest_test.r09_mainpath_create_dataset)))\n",
    "# print (\"Test 10: \" + str(pdf_test_runner(ingest_test.r10_mainpath_edit_dataset)))"
   ]
  }
 ],
 "metadata": {
  "kernelspec": {
   "display_name": "Python 3.10.9 64-bit",
   "language": "python",
   "name": "python3"
  },
  "language_info": {
   "codemirror_mode": {
    "name": "ipython",
    "version": 3
   },
   "file_extension": ".py",
   "mimetype": "text/x-python",
   "name": "python",
   "nbconvert_exporter": "python",
   "pygments_lexer": "ipython3",
   "version": "3.10.9"
  },
  "orig_nbformat": 4,
  "vscode": {
   "interpreter": {
    "hash": "aee8b7b246df8f9039afb4144a1f6fd8d2ca17a180786b69acc140d282b71a49"
   }
  }
 },
 "nbformat": 4,
 "nbformat_minor": 2
}
