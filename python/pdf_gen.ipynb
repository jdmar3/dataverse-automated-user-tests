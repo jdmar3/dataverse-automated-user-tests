{
 "cells": [
  {
   "cell_type": "code",
   "execution_count": 1,
   "metadata": {},
   "outputs": [],
   "source": [
    "tests_have_passed = True\n",
    "def pdf_test_runner(test):\n",
    "    global tests_have_passed\n",
    "    return_dict = {}\n",
    "\n",
    "    if tests_have_passed:        \n",
    "        try:\n",
    "            return_dict = test()\n",
    "        except Exception:\n",
    "            traceback.print_exc()\n",
    "            tests_have_passed = False\n",
    "    \n",
    "    return_dict['success'] = tests_have_passed\n",
    "    return return_dict"
   ]
  },
  {
   "cell_type": "code",
   "execution_count": 2,
   "metadata": {},
   "outputs": [
    {
     "ename": "ModuleNotFoundError",
     "evalue": "No module named 'requests'",
     "output_type": "error",
     "traceback": [
      "\u001b[0;31m---------------------------------------------------------------------------\u001b[0m",
      "\u001b[0;31mModuleNotFoundError\u001b[0m                       Traceback (most recent call last)",
      "Cell \u001b[0;32mIn[2], line 7\u001b[0m\n\u001b[1;32m      5\u001b[0m importlib\u001b[38;5;241m.\u001b[39mreload(dtm)\n\u001b[1;32m      6\u001b[0m importlib\u001b[38;5;241m.\u001b[39mreload(dvm)\n\u001b[0;32m----> 7\u001b[0m \u001b[38;5;28;01mfrom\u001b[39;00m \u001b[38;5;21;01mtests\u001b[39;00m \u001b[38;5;28;01mimport\u001b[39;00m test_ingest_workflow_report \u001b[38;5;28;01mas\u001b[39;00m t\n\u001b[1;32m      8\u001b[0m importlib\u001b[38;5;241m.\u001b[39mreload(t) \n\u001b[1;32m     10\u001b[0m ingest_test \u001b[38;5;241m=\u001b[39m t\u001b[38;5;241m.\u001b[39mIngestWorkflowReportTestCase(screenshots\u001b[38;5;241m=\u001b[39m\u001b[38;5;28;01mTrue\u001b[39;00m)\n",
      "File \u001b[0;32m~/Documents/GitHub/dataverse-automated-user-tests/python/tests/test_ingest_workflow_report.py:1\u001b[0m\n\u001b[0;32m----> 1\u001b[0m \u001b[39mimport\u001b[39;00m \u001b[39mtime\u001b[39;00m\u001b[39m,\u001b[39m \u001b[39munittest\u001b[39;00m\u001b[39m,\u001b[39m \u001b[39mos\u001b[39;00m\u001b[39m,\u001b[39m \u001b[39mrequests\u001b[39;00m\u001b[39m,\u001b[39m \u001b[39mre\u001b[39;00m\n\u001b[1;32m      2\u001b[0m \u001b[39mfrom\u001b[39;00m \u001b[39murllib\u001b[39;00m \u001b[39mimport\u001b[39;00m parse\n\u001b[1;32m      3\u001b[0m \u001b[39mfrom\u001b[39;00m \u001b[39mtests\u001b[39;00m\u001b[39m.\u001b[39;00m\u001b[39mmixins\u001b[39;00m\u001b[39m.\u001b[39;00m\u001b[39mdataverse_testing_mixin\u001b[39;00m \u001b[39mimport\u001b[39;00m \u001b[39m*\u001b[39m\n",
      "\u001b[0;31mModuleNotFoundError\u001b[0m: No module named 'requests'"
     ]
    }
   ],
   "source": [
    "import traceback, importlib#, sys\n",
    "from tests.mixins import dataset_testing_mixin as dtm # DataverseTestingMixin, DatasetTestingMixin\n",
    "from tests.mixins import dataverse_testing_mixin as dvm\n",
    "#We have to reload our libraries we are developing on each run to pick up changes\n",
    "importlib.reload(dtm)\n",
    "importlib.reload(dvm)\n",
    "from tests import test_ingest_workflow_report as t\n",
    "importlib.reload(t) \n",
    "\n",
    "ingest_test = t.IngestWorkflowReportTestCase(screenshots=True)\n",
    "ingest_test.setUp()\n",
    "\n",
    "#tests_have_passed = True\n",
    "print (\"Test 01: \" + str(pdf_test_runner(ingest_test.r01alt_mainpath_builtin_auth)))\n",
    "pdf_test_runner(ingest_test.get_api_token)\n",
    "print (\"Test 03: \" + str(pdf_test_runner(ingest_test.r03_mainpath_create_sub_dataverse)))\n",
    "print (\"Test 04: \" + str(pdf_test_runner(ingest_test.r04_mainpath_edit_dataverse)))\n",
    "print (\"Test 05: \" + str(pdf_test_runner(ingest_test.r05_mainpath_create_metadata_template)))\n",
    "print (\"Test 06: \" + str(pdf_test_runner(ingest_test.r06_mainpath_edit_metadata_template)))\n",
    "print (\"Test 09: \" + str(pdf_test_runner(ingest_test.r09_mainpath_create_dataset)))\n",
    "print (\"Test 10: \" + str(pdf_test_runner(ingest_test.r10_mainpath_edit_dataset)))"
   ]
  }
 ],
 "metadata": {
  "kernelspec": {
   "display_name": "Python 3.11.1 64-bit",
   "language": "python",
   "name": "python3"
  },
  "language_info": {
   "codemirror_mode": {
    "name": "ipython",
    "version": 3
   },
   "file_extension": ".py",
   "mimetype": "text/x-python",
   "name": "python",
   "nbconvert_exporter": "python",
   "pygments_lexer": "ipython3",
   "version": "3.11.1"
  },
  "orig_nbformat": 4,
  "vscode": {
   "interpreter": {
    "hash": "1a1af0ee75eeea9e2e1ee996c87e7a2b11a0bebd85af04bb136d915cefc0abce"
   }
  }
 },
 "nbformat": 4,
 "nbformat_minor": 2
}
